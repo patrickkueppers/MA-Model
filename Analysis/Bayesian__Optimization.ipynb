{
 "cells": [
  {
   "metadata": {
    "ExecuteTime": {
     "end_time": "2025-06-16T09:21:12.427884Z",
     "start_time": "2025-06-16T09:21:09.166854Z"
    }
   },
   "cell_type": "code",
   "source": [
    "# %% [Zelle 1] Imports und Pfade setzen\n",
    "import numpy as np\n",
    "import sys\n",
    "import os\n",
    "import time\n",
    "import matplotlib.pyplot as plt\n",
    "from Simulation import Polymer_Model_new \n",
    "\n",
    "from skopt import gp_minimize\n",
    "from skopt.space import Real\n",
    "\n",
    "\n"
   ],
   "id": "bc1d68d60d77c859",
   "outputs": [
    {
     "ename": "ImportError",
     "evalue": "cannot import name '_randomized_svd' from 'sklearn.utils.extmath' (/Library/Frameworks/Python.framework/Versions/3.12/lib/python3.12/site-packages/sklearn/utils/extmath.py)",
     "output_type": "error",
     "traceback": [
      "\u001B[31m---------------------------------------------------------------------------\u001B[39m",
      "\u001B[31mImportError\u001B[39m                               Traceback (most recent call last)",
      "\u001B[36mCell\u001B[39m\u001B[36m \u001B[39m\u001B[32mIn[16]\u001B[39m\u001B[32m, line 11\u001B[39m\n\u001B[32m      8\u001B[39m sys.path.append(os.path.abspath(\u001B[33m\"\u001B[39m\u001B[33m/simulation\u001B[39m\u001B[33m\"\u001B[39m))\n\u001B[32m      9\u001B[39m \u001B[38;5;28;01mfrom\u001B[39;00m\u001B[38;5;250m \u001B[39m\u001B[34;01mSimulation\u001B[39;00m\u001B[38;5;250m \u001B[39m\u001B[38;5;28;01mimport\u001B[39;00m Polymer_Model_new \n\u001B[32m---> \u001B[39m\u001B[32m11\u001B[39m \u001B[38;5;28;01mfrom\u001B[39;00m\u001B[38;5;250m \u001B[39m\u001B[34;01mskopt\u001B[39;00m\u001B[38;5;250m \u001B[39m\u001B[38;5;28;01mimport\u001B[39;00m gp_minimize\n\u001B[32m     12\u001B[39m \u001B[38;5;28;01mfrom\u001B[39;00m\u001B[38;5;250m \u001B[39m\u001B[34;01mskopt\u001B[39;00m\u001B[34;01m.\u001B[39;00m\u001B[34;01mspace\u001B[39;00m\u001B[38;5;250m \u001B[39m\u001B[38;5;28;01mimport\u001B[39;00m Real\n",
      "\u001B[36mFile \u001B[39m\u001B[32m/Library/Frameworks/Python.framework/Versions/3.12/lib/python3.12/site-packages/skopt/__init__.py:21\u001B[39m\n\u001B[32m     18\u001B[39m \u001B[38;5;28;01mexcept\u001B[39;00m PackageNotFoundError:\n\u001B[32m     19\u001B[39m     __version__ = \u001B[33m'\u001B[39m\u001B[33m?.?.?\u001B[39m\u001B[33m'\u001B[39m  \u001B[38;5;66;03m# Not installed\u001B[39;00m\n\u001B[32m---> \u001B[39m\u001B[32m21\u001B[39m \u001B[38;5;28;01mfrom\u001B[39;00m\u001B[38;5;250m \u001B[39m\u001B[34;01m.\u001B[39;00m\u001B[38;5;250m \u001B[39m\u001B[38;5;28;01mimport\u001B[39;00m (\n\u001B[32m     22\u001B[39m     acquisition,\n\u001B[32m     23\u001B[39m     benchmarks,\n\u001B[32m     24\u001B[39m     callbacks,\n\u001B[32m     25\u001B[39m     learning,\n\u001B[32m     26\u001B[39m     optimizer,\n\u001B[32m     27\u001B[39m     sampler,\n\u001B[32m     28\u001B[39m     space,\n\u001B[32m     29\u001B[39m )\n\u001B[32m     30\u001B[39m \u001B[38;5;28;01mfrom\u001B[39;00m\u001B[38;5;250m \u001B[39m\u001B[34;01m.\u001B[39;00m\u001B[34;01moptimizer\u001B[39;00m\u001B[38;5;250m \u001B[39m\u001B[38;5;28;01mimport\u001B[39;00m (\n\u001B[32m     31\u001B[39m     dummy_minimize,\n\u001B[32m     32\u001B[39m     forest_minimize,\n\u001B[32m   (...)\u001B[39m\u001B[32m     35\u001B[39m     Optimizer,\n\u001B[32m     36\u001B[39m )\n\u001B[32m     37\u001B[39m \u001B[38;5;28;01mfrom\u001B[39;00m\u001B[38;5;250m \u001B[39m\u001B[34;01m.\u001B[39;00m\u001B[34;01msearchcv\u001B[39;00m\u001B[38;5;250m \u001B[39m\u001B[38;5;28;01mimport\u001B[39;00m BayesSearchCV\n",
      "\u001B[36mFile \u001B[39m\u001B[32m/Library/Frameworks/Python.framework/Versions/3.12/lib/python3.12/site-packages/skopt/callbacks.py:18\u001B[39m\n\u001B[32m     14\u001B[39m \u001B[38;5;28;01mfrom\u001B[39;00m\u001B[38;5;250m \u001B[39m\u001B[34;01mtime\u001B[39;00m\u001B[38;5;250m \u001B[39m\u001B[38;5;28;01mimport\u001B[39;00m time\n\u001B[32m     16\u001B[39m \u001B[38;5;28;01mimport\u001B[39;00m\u001B[38;5;250m \u001B[39m\u001B[34;01mnumpy\u001B[39;00m\u001B[38;5;250m \u001B[39m\u001B[38;5;28;01mas\u001B[39;00m\u001B[38;5;250m \u001B[39m\u001B[34;01mnp\u001B[39;00m\n\u001B[32m---> \u001B[39m\u001B[32m18\u001B[39m \u001B[38;5;28;01mfrom\u001B[39;00m\u001B[38;5;250m \u001B[39m\u001B[34;01mskopt\u001B[39;00m\u001B[34;01m.\u001B[39;00m\u001B[34;01mutils\u001B[39;00m\u001B[38;5;250m \u001B[39m\u001B[38;5;28;01mimport\u001B[39;00m dump, load\n\u001B[32m     21\u001B[39m \u001B[38;5;28;01mdef\u001B[39;00m\u001B[38;5;250m \u001B[39m\u001B[34mcheck_callback\u001B[39m(callback):\n\u001B[32m     22\u001B[39m \u001B[38;5;250m    \u001B[39m\u001B[33;03m\"\"\"Check if callback is a callable or a list of callables.\"\"\"\u001B[39;00m\n",
      "\u001B[36mFile \u001B[39m\u001B[32m/Library/Frameworks/Python.framework/Versions/3.12/lib/python3.12/site-packages/skopt/utils.py:11\u001B[39m\n\u001B[32m      9\u001B[39m \u001B[38;5;28;01mfrom\u001B[39;00m\u001B[38;5;250m \u001B[39m\u001B[34;01mscipy\u001B[39;00m\u001B[34;01m.\u001B[39;00m\u001B[34;01moptimize\u001B[39;00m\u001B[38;5;250m \u001B[39m\u001B[38;5;28;01mimport\u001B[39;00m minimize \u001B[38;5;28;01mas\u001B[39;00m sp_minimize\n\u001B[32m     10\u001B[39m \u001B[38;5;28;01mfrom\u001B[39;00m\u001B[38;5;250m \u001B[39m\u001B[34;01msklearn\u001B[39;00m\u001B[34;01m.\u001B[39;00m\u001B[34;01mbase\u001B[39;00m\u001B[38;5;250m \u001B[39m\u001B[38;5;28;01mimport\u001B[39;00m is_regressor\n\u001B[32m---> \u001B[39m\u001B[32m11\u001B[39m \u001B[38;5;28;01mfrom\u001B[39;00m\u001B[38;5;250m \u001B[39m\u001B[34;01msklearn\u001B[39;00m\u001B[34;01m.\u001B[39;00m\u001B[34;01mensemble\u001B[39;00m\u001B[38;5;250m \u001B[39m\u001B[38;5;28;01mimport\u001B[39;00m GradientBoostingRegressor\n\u001B[32m     13\u001B[39m \u001B[38;5;28;01mfrom\u001B[39;00m\u001B[38;5;250m \u001B[39m\u001B[34;01m.\u001B[39;00m\u001B[34;01mlearning\u001B[39;00m\u001B[38;5;250m \u001B[39m\u001B[38;5;28;01mimport\u001B[39;00m (\n\u001B[32m     14\u001B[39m     ExtraTreesRegressor,\n\u001B[32m     15\u001B[39m     GaussianProcessRegressor,\n\u001B[32m     16\u001B[39m     GradientBoostingQuantileRegressor,\n\u001B[32m     17\u001B[39m     RandomForestRegressor,\n\u001B[32m     18\u001B[39m )\n\u001B[32m     19\u001B[39m \u001B[38;5;28;01mfrom\u001B[39;00m\u001B[38;5;250m \u001B[39m\u001B[34;01m.\u001B[39;00m\u001B[34;01mlearning\u001B[39;00m\u001B[34;01m.\u001B[39;00m\u001B[34;01mgaussian_process\u001B[39;00m\u001B[34;01m.\u001B[39;00m\u001B[34;01mkernels\u001B[39;00m\u001B[38;5;250m \u001B[39m\u001B[38;5;28;01mimport\u001B[39;00m ConstantKernel, HammingKernel, Matern\n",
      "\u001B[36mFile \u001B[39m\u001B[32m/Library/Frameworks/Python.framework/Versions/3.12/lib/python3.12/site-packages/sklearn/ensemble/__init__.py:6\u001B[39m\n\u001B[32m      1\u001B[39m \u001B[33;03m\"\"\"Ensemble-based methods for classification, regression and anomaly detection.\"\"\"\u001B[39;00m\n\u001B[32m      3\u001B[39m \u001B[38;5;66;03m# Authors: The scikit-learn developers\u001B[39;00m\n\u001B[32m      4\u001B[39m \u001B[38;5;66;03m# SPDX-License-Identifier: BSD-3-Clause\u001B[39;00m\n\u001B[32m----> \u001B[39m\u001B[32m6\u001B[39m \u001B[38;5;28;01mfrom\u001B[39;00m\u001B[38;5;250m \u001B[39m\u001B[34;01m.\u001B[39;00m\u001B[34;01m_bagging\u001B[39;00m\u001B[38;5;250m \u001B[39m\u001B[38;5;28;01mimport\u001B[39;00m BaggingClassifier, BaggingRegressor\n\u001B[32m      7\u001B[39m \u001B[38;5;28;01mfrom\u001B[39;00m\u001B[38;5;250m \u001B[39m\u001B[34;01m.\u001B[39;00m\u001B[34;01m_base\u001B[39;00m\u001B[38;5;250m \u001B[39m\u001B[38;5;28;01mimport\u001B[39;00m BaseEnsemble\n\u001B[32m      8\u001B[39m \u001B[38;5;28;01mfrom\u001B[39;00m\u001B[38;5;250m \u001B[39m\u001B[34;01m.\u001B[39;00m\u001B[34;01m_forest\u001B[39;00m\u001B[38;5;250m \u001B[39m\u001B[38;5;28;01mimport\u001B[39;00m (\n\u001B[32m      9\u001B[39m     ExtraTreesClassifier,\n\u001B[32m     10\u001B[39m     ExtraTreesRegressor,\n\u001B[32m   (...)\u001B[39m\u001B[32m     13\u001B[39m     RandomTreesEmbedding,\n\u001B[32m     14\u001B[39m )\n",
      "\u001B[36mFile \u001B[39m\u001B[32m/Library/Frameworks/Python.framework/Versions/3.12/lib/python3.12/site-packages/sklearn/ensemble/_bagging.py:17\u001B[39m\n\u001B[32m     15\u001B[39m \u001B[38;5;28;01mfrom\u001B[39;00m\u001B[38;5;250m \u001B[39m\u001B[34;01m.\u001B[39;00m\u001B[34;01m.\u001B[39;00m\u001B[34;01mbase\u001B[39;00m\u001B[38;5;250m \u001B[39m\u001B[38;5;28;01mimport\u001B[39;00m ClassifierMixin, RegressorMixin, _fit_context\n\u001B[32m     16\u001B[39m \u001B[38;5;28;01mfrom\u001B[39;00m\u001B[38;5;250m \u001B[39m\u001B[34;01m.\u001B[39;00m\u001B[34;01m.\u001B[39;00m\u001B[34;01mmetrics\u001B[39;00m\u001B[38;5;250m \u001B[39m\u001B[38;5;28;01mimport\u001B[39;00m accuracy_score, r2_score\n\u001B[32m---> \u001B[39m\u001B[32m17\u001B[39m \u001B[38;5;28;01mfrom\u001B[39;00m\u001B[38;5;250m \u001B[39m\u001B[34;01m.\u001B[39;00m\u001B[34;01m.\u001B[39;00m\u001B[34;01mtree\u001B[39;00m\u001B[38;5;250m \u001B[39m\u001B[38;5;28;01mimport\u001B[39;00m DecisionTreeClassifier, DecisionTreeRegressor\n\u001B[32m     18\u001B[39m \u001B[38;5;28;01mfrom\u001B[39;00m\u001B[38;5;250m \u001B[39m\u001B[34;01m.\u001B[39;00m\u001B[34;01m.\u001B[39;00m\u001B[34;01mutils\u001B[39;00m\u001B[38;5;250m \u001B[39m\u001B[38;5;28;01mimport\u001B[39;00m (\n\u001B[32m     19\u001B[39m     Bunch,\n\u001B[32m     20\u001B[39m     _safe_indexing,\n\u001B[32m     21\u001B[39m     check_random_state,\n\u001B[32m     22\u001B[39m     column_or_1d,\n\u001B[32m     23\u001B[39m )\n\u001B[32m     24\u001B[39m \u001B[38;5;28;01mfrom\u001B[39;00m\u001B[38;5;250m \u001B[39m\u001B[34;01m.\u001B[39;00m\u001B[34;01m.\u001B[39;00m\u001B[34;01mutils\u001B[39;00m\u001B[34;01m.\u001B[39;00m\u001B[34;01m_mask\u001B[39;00m\u001B[38;5;250m \u001B[39m\u001B[38;5;28;01mimport\u001B[39;00m indices_to_mask\n",
      "\u001B[36mFile \u001B[39m\u001B[32m/Library/Frameworks/Python.framework/Versions/3.12/lib/python3.12/site-packages/sklearn/tree/__init__.py:6\u001B[39m\n\u001B[32m      1\u001B[39m \u001B[33;03m\"\"\"Decision tree based models for classification and regression.\"\"\"\u001B[39;00m\n\u001B[32m      3\u001B[39m \u001B[38;5;66;03m# Authors: The scikit-learn developers\u001B[39;00m\n\u001B[32m      4\u001B[39m \u001B[38;5;66;03m# SPDX-License-Identifier: BSD-3-Clause\u001B[39;00m\n\u001B[32m----> \u001B[39m\u001B[32m6\u001B[39m \u001B[38;5;28;01mfrom\u001B[39;00m\u001B[38;5;250m \u001B[39m\u001B[34;01m.\u001B[39;00m\u001B[34;01m_classes\u001B[39;00m\u001B[38;5;250m \u001B[39m\u001B[38;5;28;01mimport\u001B[39;00m (\n\u001B[32m      7\u001B[39m     BaseDecisionTree,\n\u001B[32m      8\u001B[39m     DecisionTreeClassifier,\n\u001B[32m      9\u001B[39m     DecisionTreeRegressor,\n\u001B[32m     10\u001B[39m     ExtraTreeClassifier,\n\u001B[32m     11\u001B[39m     ExtraTreeRegressor,\n\u001B[32m     12\u001B[39m )\n\u001B[32m     13\u001B[39m \u001B[38;5;28;01mfrom\u001B[39;00m\u001B[38;5;250m \u001B[39m\u001B[34;01m.\u001B[39;00m\u001B[34;01m_export\u001B[39;00m\u001B[38;5;250m \u001B[39m\u001B[38;5;28;01mimport\u001B[39;00m export_graphviz, export_text, plot_tree\n\u001B[32m     15\u001B[39m __all__ = [\n\u001B[32m     16\u001B[39m     \u001B[33m\"\u001B[39m\u001B[33mBaseDecisionTree\u001B[39m\u001B[33m\"\u001B[39m,\n\u001B[32m     17\u001B[39m     \u001B[33m\"\u001B[39m\u001B[33mDecisionTreeClassifier\u001B[39m\u001B[33m\"\u001B[39m,\n\u001B[32m   (...)\u001B[39m\u001B[32m     23\u001B[39m     \u001B[33m\"\u001B[39m\u001B[33mplot_tree\u001B[39m\u001B[33m\"\u001B[39m,\n\u001B[32m     24\u001B[39m ]\n",
      "\u001B[36mFile \u001B[39m\u001B[32m/Library/Frameworks/Python.framework/Versions/3.12/lib/python3.12/site-packages/sklearn/tree/_classes.py:40\u001B[39m\n\u001B[32m     31\u001B[39m \u001B[38;5;28;01mfrom\u001B[39;00m\u001B[38;5;250m \u001B[39m\u001B[34;01m.\u001B[39;00m\u001B[34;01m.\u001B[39;00m\u001B[34;01mutils\u001B[39;00m\u001B[34;01m.\u001B[39;00m\u001B[34;01mmulticlass\u001B[39;00m\u001B[38;5;250m \u001B[39m\u001B[38;5;28;01mimport\u001B[39;00m check_classification_targets\n\u001B[32m     32\u001B[39m \u001B[38;5;28;01mfrom\u001B[39;00m\u001B[38;5;250m \u001B[39m\u001B[34;01m.\u001B[39;00m\u001B[34;01m.\u001B[39;00m\u001B[34;01mutils\u001B[39;00m\u001B[34;01m.\u001B[39;00m\u001B[34;01mvalidation\u001B[39;00m\u001B[38;5;250m \u001B[39m\u001B[38;5;28;01mimport\u001B[39;00m (\n\u001B[32m     33\u001B[39m     _assert_all_finite_element_wise,\n\u001B[32m     34\u001B[39m     _check_n_features,\n\u001B[32m   (...)\u001B[39m\u001B[32m     38\u001B[39m     validate_data,\n\u001B[32m     39\u001B[39m )\n\u001B[32m---> \u001B[39m\u001B[32m40\u001B[39m \u001B[38;5;28;01mfrom\u001B[39;00m\u001B[38;5;250m \u001B[39m\u001B[34;01m.\u001B[39;00m\u001B[38;5;250m \u001B[39m\u001B[38;5;28;01mimport\u001B[39;00m _criterion, _splitter, _tree\n\u001B[32m     41\u001B[39m \u001B[38;5;28;01mfrom\u001B[39;00m\u001B[38;5;250m \u001B[39m\u001B[34;01m.\u001B[39;00m\u001B[34;01m_criterion\u001B[39;00m\u001B[38;5;250m \u001B[39m\u001B[38;5;28;01mimport\u001B[39;00m Criterion\n\u001B[32m     42\u001B[39m \u001B[38;5;28;01mfrom\u001B[39;00m\u001B[38;5;250m \u001B[39m\u001B[34;01m.\u001B[39;00m\u001B[34;01m_splitter\u001B[39;00m\u001B[38;5;250m \u001B[39m\u001B[38;5;28;01mimport\u001B[39;00m Splitter\n",
      "\u001B[36mFile \u001B[39m\u001B[32m/Library/Frameworks/Python.framework/Versions/3.12/lib/python3.12/site-packages/sklearn/tree/_criterion.pyx:1\u001B[39m, in \u001B[36minit sklearn.tree._criterion\u001B[39m\u001B[34m()\u001B[39m\n",
      "\u001B[36mFile \u001B[39m\u001B[32m/Library/Frameworks/Python.framework/Versions/3.12/lib/python3.12/site-packages/sklearn/tree/_splitter.pyx:1\u001B[39m, in \u001B[36minit sklearn.tree._splitter\u001B[39m\u001B[34m()\u001B[39m\n",
      "\u001B[36mFile \u001B[39m\u001B[32m/Library/Frameworks/Python.framework/Versions/3.12/lib/python3.12/site-packages/sklearn/tree/_tree.pyx:1\u001B[39m, in \u001B[36minit sklearn.tree._tree\u001B[39m\u001B[34m()\u001B[39m\n",
      "\u001B[36mFile \u001B[39m\u001B[32m/Library/Frameworks/Python.framework/Versions/3.12/lib/python3.12/site-packages/sklearn/neighbors/__init__.py:18\u001B[39m\n\u001B[32m     16\u001B[39m \u001B[38;5;28;01mfrom\u001B[39;00m\u001B[38;5;250m \u001B[39m\u001B[34;01m.\u001B[39;00m\u001B[34;01m_kde\u001B[39;00m\u001B[38;5;250m \u001B[39m\u001B[38;5;28;01mimport\u001B[39;00m KernelDensity\n\u001B[32m     17\u001B[39m \u001B[38;5;28;01mfrom\u001B[39;00m\u001B[38;5;250m \u001B[39m\u001B[34;01m.\u001B[39;00m\u001B[34;01m_lof\u001B[39;00m\u001B[38;5;250m \u001B[39m\u001B[38;5;28;01mimport\u001B[39;00m LocalOutlierFactor\n\u001B[32m---> \u001B[39m\u001B[32m18\u001B[39m \u001B[38;5;28;01mfrom\u001B[39;00m\u001B[38;5;250m \u001B[39m\u001B[34;01m.\u001B[39;00m\u001B[34;01m_nca\u001B[39;00m\u001B[38;5;250m \u001B[39m\u001B[38;5;28;01mimport\u001B[39;00m NeighborhoodComponentsAnalysis\n\u001B[32m     19\u001B[39m \u001B[38;5;28;01mfrom\u001B[39;00m\u001B[38;5;250m \u001B[39m\u001B[34;01m.\u001B[39;00m\u001B[34;01m_nearest_centroid\u001B[39;00m\u001B[38;5;250m \u001B[39m\u001B[38;5;28;01mimport\u001B[39;00m NearestCentroid\n\u001B[32m     20\u001B[39m \u001B[38;5;28;01mfrom\u001B[39;00m\u001B[38;5;250m \u001B[39m\u001B[34;01m.\u001B[39;00m\u001B[34;01m_regression\u001B[39;00m\u001B[38;5;250m \u001B[39m\u001B[38;5;28;01mimport\u001B[39;00m KNeighborsRegressor, RadiusNeighborsRegressor\n",
      "\u001B[36mFile \u001B[39m\u001B[32m/Library/Frameworks/Python.framework/Versions/3.12/lib/python3.12/site-packages/sklearn/neighbors/_nca.py:22\u001B[39m\n\u001B[32m     14\u001B[39m \u001B[38;5;28;01mfrom\u001B[39;00m\u001B[38;5;250m \u001B[39m\u001B[34;01mscipy\u001B[39;00m\u001B[34;01m.\u001B[39;00m\u001B[34;01moptimize\u001B[39;00m\u001B[38;5;250m \u001B[39m\u001B[38;5;28;01mimport\u001B[39;00m minimize\n\u001B[32m     16\u001B[39m \u001B[38;5;28;01mfrom\u001B[39;00m\u001B[38;5;250m \u001B[39m\u001B[34;01m.\u001B[39;00m\u001B[34;01m.\u001B[39;00m\u001B[34;01mbase\u001B[39;00m\u001B[38;5;250m \u001B[39m\u001B[38;5;28;01mimport\u001B[39;00m (\n\u001B[32m     17\u001B[39m     BaseEstimator,\n\u001B[32m     18\u001B[39m     ClassNamePrefixFeaturesOutMixin,\n\u001B[32m     19\u001B[39m     TransformerMixin,\n\u001B[32m     20\u001B[39m     _fit_context,\n\u001B[32m     21\u001B[39m )\n\u001B[32m---> \u001B[39m\u001B[32m22\u001B[39m \u001B[38;5;28;01mfrom\u001B[39;00m\u001B[38;5;250m \u001B[39m\u001B[34;01m.\u001B[39;00m\u001B[34;01m.\u001B[39;00m\u001B[34;01mdecomposition\u001B[39;00m\u001B[38;5;250m \u001B[39m\u001B[38;5;28;01mimport\u001B[39;00m PCA\n\u001B[32m     23\u001B[39m \u001B[38;5;28;01mfrom\u001B[39;00m\u001B[38;5;250m \u001B[39m\u001B[34;01m.\u001B[39;00m\u001B[34;01m.\u001B[39;00m\u001B[34;01mexceptions\u001B[39;00m\u001B[38;5;250m \u001B[39m\u001B[38;5;28;01mimport\u001B[39;00m ConvergenceWarning\n\u001B[32m     24\u001B[39m \u001B[38;5;28;01mfrom\u001B[39;00m\u001B[38;5;250m \u001B[39m\u001B[34;01m.\u001B[39;00m\u001B[34;01m.\u001B[39;00m\u001B[34;01mmetrics\u001B[39;00m\u001B[38;5;250m \u001B[39m\u001B[38;5;28;01mimport\u001B[39;00m pairwise_distances\n",
      "\u001B[36mFile \u001B[39m\u001B[32m/Library/Frameworks/Python.framework/Versions/3.12/lib/python3.12/site-packages/sklearn/decomposition/__init__.py:11\u001B[39m\n\u001B[32m      7\u001B[39m \u001B[38;5;66;03m# Authors: The scikit-learn developers\u001B[39;00m\n\u001B[32m      8\u001B[39m \u001B[38;5;66;03m# SPDX-License-Identifier: BSD-3-Clause\u001B[39;00m\n\u001B[32m     10\u001B[39m \u001B[38;5;28;01mfrom\u001B[39;00m\u001B[38;5;250m \u001B[39m\u001B[34;01m.\u001B[39;00m\u001B[34;01m.\u001B[39;00m\u001B[34;01mutils\u001B[39;00m\u001B[34;01m.\u001B[39;00m\u001B[34;01mextmath\u001B[39;00m\u001B[38;5;250m \u001B[39m\u001B[38;5;28;01mimport\u001B[39;00m randomized_svd\n\u001B[32m---> \u001B[39m\u001B[32m11\u001B[39m \u001B[38;5;28;01mfrom\u001B[39;00m\u001B[38;5;250m \u001B[39m\u001B[34;01m.\u001B[39;00m\u001B[34;01m_dict_learning\u001B[39;00m\u001B[38;5;250m \u001B[39m\u001B[38;5;28;01mimport\u001B[39;00m (\n\u001B[32m     12\u001B[39m     DictionaryLearning,\n\u001B[32m     13\u001B[39m     MiniBatchDictionaryLearning,\n\u001B[32m     14\u001B[39m     SparseCoder,\n\u001B[32m     15\u001B[39m     dict_learning,\n\u001B[32m     16\u001B[39m     dict_learning_online,\n\u001B[32m     17\u001B[39m     sparse_encode,\n\u001B[32m     18\u001B[39m )\n\u001B[32m     19\u001B[39m \u001B[38;5;28;01mfrom\u001B[39;00m\u001B[38;5;250m \u001B[39m\u001B[34;01m.\u001B[39;00m\u001B[34;01m_factor_analysis\u001B[39;00m\u001B[38;5;250m \u001B[39m\u001B[38;5;28;01mimport\u001B[39;00m FactorAnalysis\n\u001B[32m     20\u001B[39m \u001B[38;5;28;01mfrom\u001B[39;00m\u001B[38;5;250m \u001B[39m\u001B[34;01m.\u001B[39;00m\u001B[34;01m_fastica\u001B[39;00m\u001B[38;5;250m \u001B[39m\u001B[38;5;28;01mimport\u001B[39;00m FastICA, fastica\n",
      "\u001B[36mFile \u001B[39m\u001B[32m/Library/Frameworks/Python.framework/Versions/3.12/lib/python3.12/site-packages/sklearn/decomposition/_dict_learning.py:24\u001B[39m\n\u001B[32m     22\u001B[39m \u001B[38;5;28;01mfrom\u001B[39;00m\u001B[38;5;250m \u001B[39m\u001B[34;01m.\u001B[39;00m\u001B[34;01m.\u001B[39;00m\u001B[34;01mutils\u001B[39;00m\u001B[38;5;250m \u001B[39m\u001B[38;5;28;01mimport\u001B[39;00m check_array, check_random_state, gen_batches, gen_even_slices\n\u001B[32m     23\u001B[39m \u001B[38;5;28;01mfrom\u001B[39;00m\u001B[38;5;250m \u001B[39m\u001B[34;01m.\u001B[39;00m\u001B[34;01m.\u001B[39;00m\u001B[34;01mutils\u001B[39;00m\u001B[34;01m.\u001B[39;00m\u001B[34;01m_param_validation\u001B[39;00m\u001B[38;5;250m \u001B[39m\u001B[38;5;28;01mimport\u001B[39;00m Interval, StrOptions, validate_params\n\u001B[32m---> \u001B[39m\u001B[32m24\u001B[39m \u001B[38;5;28;01mfrom\u001B[39;00m\u001B[38;5;250m \u001B[39m\u001B[34;01m.\u001B[39;00m\u001B[34;01m.\u001B[39;00m\u001B[34;01mutils\u001B[39;00m\u001B[34;01m.\u001B[39;00m\u001B[34;01mextmath\u001B[39;00m\u001B[38;5;250m \u001B[39m\u001B[38;5;28;01mimport\u001B[39;00m _randomized_svd, row_norms, svd_flip\n\u001B[32m     25\u001B[39m \u001B[38;5;28;01mfrom\u001B[39;00m\u001B[38;5;250m \u001B[39m\u001B[34;01m.\u001B[39;00m\u001B[34;01m.\u001B[39;00m\u001B[34;01mutils\u001B[39;00m\u001B[34;01m.\u001B[39;00m\u001B[34;01mparallel\u001B[39;00m\u001B[38;5;250m \u001B[39m\u001B[38;5;28;01mimport\u001B[39;00m Parallel, delayed\n\u001B[32m     26\u001B[39m \u001B[38;5;28;01mfrom\u001B[39;00m\u001B[38;5;250m \u001B[39m\u001B[34;01m.\u001B[39;00m\u001B[34;01m.\u001B[39;00m\u001B[34;01mutils\u001B[39;00m\u001B[34;01m.\u001B[39;00m\u001B[34;01mvalidation\u001B[39;00m\u001B[38;5;250m \u001B[39m\u001B[38;5;28;01mimport\u001B[39;00m check_is_fitted, validate_data\n",
      "\u001B[31mImportError\u001B[39m: cannot import name '_randomized_svd' from 'sklearn.utils.extmath' (/Library/Frameworks/Python.framework/Versions/3.12/lib/python3.12/site-packages/sklearn/utils/extmath.py)"
     ]
    }
   ],
   "execution_count": 16
  },
  {
   "metadata": {},
   "cell_type": "code",
   "source": [
    "\n",
    "# %% [Zelle 2] Parameterraum definieren\n",
    "space = [\n",
    "    Real(1e-4, 1e-1, name='kd'),       # Initiator Dissoziation\n",
    "    Real(500, 5000, name='kip'),       # Initiierung + Propagation (gleicher Wert)\n",
    "    Real(0.0, 1.0, name='ktr'),        # Kettenübertragung\n",
    "    Real(1e4, 1e6, name='kt'),         # Termination\n",
    "]\n",
    "\n",
    "\n"
   ],
   "id": "fe3bc58f2671462a",
   "outputs": [],
   "execution_count": null
  },
  {
   "metadata": {},
   "cell_type": "code",
   "source": [
    "# %% [Zelle 3] Zielkriterium definieren – ohne use_named_args\n",
    "def objective(params):\n",
    "    kd, kip, ktr, kt = params\n",
    "\n",
    "    print(f\"\\nRunning simulation with kd={kd:.2e}, kip={kip:.2e}, ktr={ktr:.2e}, kt={kt:.2e}\")\n",
    "    start = time.time()\n",
    "\n",
    "    try:\n",
    "        result = Polymer_Model_new.run_simulation_with_params(\n",
    "            kd=kd, ki=kip, kp=kip, ktr=ktr, kt=kt, t_end=1000\n",
    "        )\n",
    "    except Exception as e:\n",
    "        print(f\"Simulation failed: {e}\")\n",
    "        return 1e6  # Bestrafe fehlgeschlagene Simulationen\n",
    "\n",
    "    final_state = result.y[:, -1]\n",
    "    P_dead = final_state[3 + Polymer_Model_new.N_MAX:]\n",
    "\n",
    "    indices = np.arange(1, Polymer_Model_new.N_MAX + 1)\n",
    "    total = np.sum(P_dead)\n",
    "    if total == 0:\n",
    "        return 1e6  # Ungültige Lösung\n",
    "\n",
    "    normalized = P_dead / total\n",
    "    mean = np.sum(indices * normalized)\n",
    "    std = np.sqrt(np.sum(((indices - mean)**2) * normalized))\n",
    "\n",
    "    end = time.time()\n",
    "    print(f\"→ Simulation took {end - start:.2f} seconds. mean={mean:.1f}, std={std:.2f}\")\n",
    "\n",
    "    loss = (mean - 100)**2 + std**2\n",
    "    return loss  # Minimierung der Verlustfunktion\n",
    "\n",
    "\n"
   ],
   "id": "9e16cd73211859ff",
   "outputs": [],
   "execution_count": null
  },
  {
   "metadata": {},
   "cell_type": "code",
   "source": [
    "# %% [Zelle 4] Optimierung starten\n",
    "res = gp_minimize(\n",
    "    func=objective,\n",
    "    dimensions=space,\n",
    "    acq_func=\"EI\",       # Alternativen: \"LCB\", \"PI\"\n",
    "    n_calls=20,\n",
    "    n_initial_points=5,\n",
    "    random_state=42,\n",
    "    verbose=True\n",
    ")\n"
   ],
   "id": "374a2d4ea0df986b",
   "outputs": [],
   "execution_count": null
  },
  {
   "metadata": {},
   "cell_type": "code",
   "source": [
    "# %% [Zelle 5] Beste Parameter testen und visualisieren\n",
    "best_params = res.x\n",
    "kd_best, kip_best, ktr_best, kt_best = best_params\n",
    "print(f\"Beste Parameter: kd={kd_best:.2e}, kip={kip_best:.2e}, ktr={ktr_best:.2e}, kt={kt_best:.2e}\")\n",
    "\n",
    "result = Polymer_Model_new.run_simulation_with_params(\n",
    "    kd=kd_best, ki=kip_best, kp=kip_best, ktr=ktr_best, kt=kt_best, t_end=1000\n",
    ")\n",
    "final_state = result.y[:, -1]\n",
    "Polymer_Model_new.plot_chain_length_distribution(final_state)\n"
   ],
   "id": "b6cd14286f8c8d38",
   "outputs": [],
   "execution_count": null
  }
 ],
 "metadata": {
  "kernelspec": {
   "display_name": "Python 3",
   "language": "python",
   "name": "python3"
  },
  "language_info": {
   "codemirror_mode": {
    "name": "ipython",
    "version": 2
   },
   "file_extension": ".py",
   "mimetype": "text/x-python",
   "name": "python",
   "nbconvert_exporter": "python",
   "pygments_lexer": "ipython2",
   "version": "2.7.6"
  }
 },
 "nbformat": 4,
 "nbformat_minor": 5
}
